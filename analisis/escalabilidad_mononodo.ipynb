{
 "cells": [
  {
   "cell_type": "code",
   "execution_count": 2,
   "id": "a9570cef",
   "metadata": {},
   "outputs": [],
   "source": [
    "import pandas as pd\n",
    "import matplotlib.pyplot as plt"
   ]
  },
  {
   "cell_type": "code",
   "execution_count": null,
   "id": "8ce1f09a",
   "metadata": {},
   "outputs": [
    {
     "name": "stdout",
     "output_type": "stream",
     "text": [
      "File not found. Please check the path.\n",
      "Current working directory: /home/fernando/universidad/DockEEG/analisis\n",
      "Files in current directory: ['escalabilidad_mononodo.ipynb']\n",
      "Results directory does not exist\n"
     ]
    },
    {
     "ename": "NameError",
     "evalue": "name 'df' is not defined",
     "output_type": "error",
     "traceback": [
      "\u001b[31m---------------------------------------------------------------------------\u001b[39m",
      "\u001b[31mNameError\u001b[39m                                 Traceback (most recent call last)",
      "\u001b[36mCell\u001b[39m\u001b[36m \u001b[39m\u001b[32mIn[4]\u001b[39m\u001b[32m, line 25\u001b[39m\n\u001b[32m     23\u001b[39m     \u001b[38;5;28;01melse\u001b[39;00m:\n\u001b[32m     24\u001b[39m         \u001b[38;5;28;01mreturn\u001b[39;00m \u001b[38;5;28mfloat\u001b[39m(t)\n\u001b[32m---> \u001b[39m\u001b[32m25\u001b[39m df[\u001b[33m'\u001b[39m\u001b[33mtiempo_real_seg\u001b[39m\u001b[33m'\u001b[39m] = \u001b[43mdf\u001b[49m[\u001b[33m'\u001b[39m\u001b[33mtiempo_real\u001b[39m\u001b[33m'\u001b[39m].apply(tiempo_a_segundos)\n\u001b[32m     27\u001b[39m \u001b[38;5;66;03m# Graficar\u001b[39;00m\n\u001b[32m     28\u001b[39m plt.figure(figsize=(\u001b[32m8\u001b[39m,\u001b[32m5\u001b[39m))\n",
      "\u001b[31mNameError\u001b[39m: name 'df' is not defined"
     ]
    }
   ],
   "source": [
    "# Cargar el CSV\n",
    "df = pd.read_csv('../results/escalabilidad_mononodo.csv')\n",
    "\n",
    "# Convertir tiempo_real de formato mm:ss.xx a segundos\n",
    "\n",
    "\n",
    "def tiempo_a_segundos(t):\n",
    "    if pd.isna(t):\n",
    "        return None\n",
    "    partes = t.split(':')\n",
    "    if len(partes) == 2:\n",
    "        minutos = int(partes[0])\n",
    "        segundos = float(partes[1])\n",
    "        return minutos * 60 + segundos\n",
    "    else:\n",
    "        return float(t)\n",
    "\n",
    "\n",
    "df['tiempo_real_seg'] = df['tiempo_real'].apply(tiempo_a_segundos)\n",
    "\n",
    "# Graficar\n",
    "plt.figure(figsize=(8, 5))\n",
    "plt.plot(df['hebras'], df['tiempo_real_seg'], marker='o')\n",
    "plt.xlabel('Número de hebras')\n",
    "plt.ylabel('Tiempo real (segundos)')\n",
    "plt.title('Escalabilidad Mononodo: Tiempo real vs Número de hebras')\n",
    "plt.grid(True)\n",
    "plt.show()"
   ]
  }
 ],
 "metadata": {
  "kernelspec": {
   "display_name": ".venv (3.12.3)",
   "language": "python",
   "name": "python3"
  },
  "language_info": {
   "codemirror_mode": {
    "name": "ipython",
    "version": 3
   },
   "file_extension": ".py",
   "mimetype": "text/x-python",
   "name": "python",
   "nbconvert_exporter": "python",
   "pygments_lexer": "ipython3",
   "version": "3.12.3"
  }
 },
 "nbformat": 4,
 "nbformat_minor": 5
}
